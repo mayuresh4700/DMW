{
  "metadata": {
    "language_info": {
      "codemirror_mode": {
        "name": "python",
        "version": 3
      },
      "file_extension": ".py",
      "mimetype": "text/x-python",
      "name": "python",
      "nbconvert_exporter": "python",
      "pygments_lexer": "ipython3",
      "version": "3.8"
    },
    "kernelspec": {
      "name": "python",
      "display_name": "Python (Pyodide)",
      "language": "python"
    }
  },
  "nbformat_minor": 4,
  "nbformat": 4,
  "cells": [
    {
      "cell_type": "code",
      "source": "import pandas as pd\nimport numpy as np\nimport matplotlib.pyplot as plt\n#libraries\ndf=pd.read_csv('cars.csv')\n#name of dataset\nprint(df)\n",
      "metadata": {
        "trusted": true
      },
      "execution_count": 1,
      "outputs": [
        {
          "name": "stdout",
          "text": "                        car_name  reviews_count fuel_type  \\\n0                Maruti Alto K10             51    Petrol   \n1                  Maruti Brezza             86    Petrol   \n2                  Mahindra Thar            242    Diesel   \n3                Mahindra XUV700            313    Diesel   \n4             Mahindra Scorpio-N            107    Diesel   \n..                           ...            ...       ...   \n198     Mercedes-Benz AMG A 45 S             35    Petrol   \n199  BMW 3 Series Gran Limousine              3    Petrol   \n200               MG Hector Plus              2    Diesel   \n201                   Audi RS Q8              9    Petrol   \n202         Maruti Alto 800 tour              4    Petrol   \n\n     engine_displacement  no_cylinder  seating_capacity transmission_type  \\\n0                    998            3               5.0         Automatic   \n1                   1462            4               5.0         Automatic   \n2                   2184            4               4.0         Automatic   \n3                   2198            4               7.0         Automatic   \n4                   2198            4               7.0         Automatic   \n..                   ...          ...               ...               ...   \n198                 1991            4               5.0         Automatic   \n199                 1998            4               5.0         Automatic   \n200                 1956            4               7.0            Manual   \n201                 3998            8               5.0         Automatic   \n202                  796            3               5.0            Manual   \n\n     fuel_tank_capacity  body_type  rating  starting_price  ending_price  \\\n0                  27.0  Hatchback     4.5          399000        583000   \n1                  48.0        SUV     4.5          799000       1396000   \n2                  57.0        SUV     4.5         1353000       1603000   \n3                  60.0        SUV     4.5         1318000       2458000   \n4                  57.0        SUV     4.5         1199000       2390000   \n..                  ...        ...     ...             ...           ...   \n198                 0.0  Hatchback     4.5          659000        999000   \n199                59.0      Sedan     4.5         1041000       1041000   \n200                60.0        SUV     4.5         1615000       2075000   \n201                85.0        SUV     3.5        21700000      21700000   \n202                35.0  Hatchback     4.5          391000        397000   \n\n     max_torque_nm  max_torque_rpm  max_power_bhp  max_power_rp  \n0             89.0            3500          65.71          5500  \n1            136.8            4400         101.65          6000  \n2            300.0            2800         130.00          3750  \n3            450.0            2800         182.38          3500  \n4            400.0            2750         172.45          3500  \n..             ...             ...            ...           ...  \n198          500.0            5250         415.71          6750  \n199          400.0            4400         254.79          5000  \n200          350.0            2500         167.67          3750  \n201          800.0            4500         591.39          6000  \n202           69.0            3500          47.33          6000  \n\n[203 rows x 16 columns]\n",
          "output_type": "stream"
        }
      ]
    },
    {
      "cell_type": "code",
      "source": "df.describe()\n",
      "metadata": {
        "trusted": true
      },
      "execution_count": 2,
      "outputs": [
        {
          "execution_count": 2,
          "output_type": "execute_result",
          "data": {
            "text/plain": "       reviews_count  engine_displacement  no_cylinder  seating_capacity  \\\ncount     203.000000           203.000000   203.000000        202.000000   \nmean      118.684729          2305.921182     4.709360          5.014851   \nstd       314.331318          1493.837786     2.538664          1.161050   \nmin         1.000000             0.000000     0.000000          2.000000   \n25%         5.000000          1339.500000     4.000000          5.000000   \n50%        14.000000          1991.000000     4.000000          5.000000   \n75%        83.000000          2996.000000     6.000000          5.000000   \nmax      2392.000000          6750.000000    12.000000          8.000000   \n\n       fuel_tank_capacity      rating  starting_price  ending_price  \\\ncount          203.000000  203.000000    2.030000e+02  2.030000e+02   \nmean            46.143842    4.433498    9.443640e+06  1.112005e+07   \nstd             28.904207    0.280136    1.357035e+07  1.551746e+07   \nmin              0.000000    3.000000    3.390000e+05  3.610000e+05   \n25%             33.500000    4.500000    9.455000e+05  1.407500e+06   \n50%             50.000000    4.500000    4.312000e+06  4.600000e+06   \n75%             66.000000    4.500000    1.160000e+07  1.575000e+07   \nmax            100.000000    5.000000    7.060000e+07  9.000000e+07   \n\n       max_torque_nm  max_torque_rpm  max_power_bhp  max_power_rp  \ncount     203.000000      203.000000     203.000000    203.000000  \nmean      402.804828     3346.507389     266.576995   4790.147783  \nstd       237.116638     1594.960077     193.474807   1990.876835  \nmin        16.100000        0.000000      10.800000      0.000000  \n25%       201.000000     2500.000000     108.555000   3800.000000  \n50%       360.000000     3500.000000     187.740000   5500.000000  \n75%       590.000000     4500.000000     384.870000   6000.000000  \nmax      1020.000000     7000.000000     788.520000   8500.000000  ",
            "text/html": "<div>\n<style scoped>\n    .dataframe tbody tr th:only-of-type {\n        vertical-align: middle;\n    }\n\n    .dataframe tbody tr th {\n        vertical-align: top;\n    }\n\n    .dataframe thead th {\n        text-align: right;\n    }\n</style>\n<table border=\"1\" class=\"dataframe\">\n  <thead>\n    <tr style=\"text-align: right;\">\n      <th></th>\n      <th>reviews_count</th>\n      <th>engine_displacement</th>\n      <th>no_cylinder</th>\n      <th>seating_capacity</th>\n      <th>fuel_tank_capacity</th>\n      <th>rating</th>\n      <th>starting_price</th>\n      <th>ending_price</th>\n      <th>max_torque_nm</th>\n      <th>max_torque_rpm</th>\n      <th>max_power_bhp</th>\n      <th>max_power_rp</th>\n    </tr>\n  </thead>\n  <tbody>\n    <tr>\n      <th>count</th>\n      <td>203.000000</td>\n      <td>203.000000</td>\n      <td>203.000000</td>\n      <td>202.000000</td>\n      <td>203.000000</td>\n      <td>203.000000</td>\n      <td>2.030000e+02</td>\n      <td>2.030000e+02</td>\n      <td>203.000000</td>\n      <td>203.000000</td>\n      <td>203.000000</td>\n      <td>203.000000</td>\n    </tr>\n    <tr>\n      <th>mean</th>\n      <td>118.684729</td>\n      <td>2305.921182</td>\n      <td>4.709360</td>\n      <td>5.014851</td>\n      <td>46.143842</td>\n      <td>4.433498</td>\n      <td>9.443640e+06</td>\n      <td>1.112005e+07</td>\n      <td>402.804828</td>\n      <td>3346.507389</td>\n      <td>266.576995</td>\n      <td>4790.147783</td>\n    </tr>\n    <tr>\n      <th>std</th>\n      <td>314.331318</td>\n      <td>1493.837786</td>\n      <td>2.538664</td>\n      <td>1.161050</td>\n      <td>28.904207</td>\n      <td>0.280136</td>\n      <td>1.357035e+07</td>\n      <td>1.551746e+07</td>\n      <td>237.116638</td>\n      <td>1594.960077</td>\n      <td>193.474807</td>\n      <td>1990.876835</td>\n    </tr>\n    <tr>\n      <th>min</th>\n      <td>1.000000</td>\n      <td>0.000000</td>\n      <td>0.000000</td>\n      <td>2.000000</td>\n      <td>0.000000</td>\n      <td>3.000000</td>\n      <td>3.390000e+05</td>\n      <td>3.610000e+05</td>\n      <td>16.100000</td>\n      <td>0.000000</td>\n      <td>10.800000</td>\n      <td>0.000000</td>\n    </tr>\n    <tr>\n      <th>25%</th>\n      <td>5.000000</td>\n      <td>1339.500000</td>\n      <td>4.000000</td>\n      <td>5.000000</td>\n      <td>33.500000</td>\n      <td>4.500000</td>\n      <td>9.455000e+05</td>\n      <td>1.407500e+06</td>\n      <td>201.000000</td>\n      <td>2500.000000</td>\n      <td>108.555000</td>\n      <td>3800.000000</td>\n    </tr>\n    <tr>\n      <th>50%</th>\n      <td>14.000000</td>\n      <td>1991.000000</td>\n      <td>4.000000</td>\n      <td>5.000000</td>\n      <td>50.000000</td>\n      <td>4.500000</td>\n      <td>4.312000e+06</td>\n      <td>4.600000e+06</td>\n      <td>360.000000</td>\n      <td>3500.000000</td>\n      <td>187.740000</td>\n      <td>5500.000000</td>\n    </tr>\n    <tr>\n      <th>75%</th>\n      <td>83.000000</td>\n      <td>2996.000000</td>\n      <td>6.000000</td>\n      <td>5.000000</td>\n      <td>66.000000</td>\n      <td>4.500000</td>\n      <td>1.160000e+07</td>\n      <td>1.575000e+07</td>\n      <td>590.000000</td>\n      <td>4500.000000</td>\n      <td>384.870000</td>\n      <td>6000.000000</td>\n    </tr>\n    <tr>\n      <th>max</th>\n      <td>2392.000000</td>\n      <td>6750.000000</td>\n      <td>12.000000</td>\n      <td>8.000000</td>\n      <td>100.000000</td>\n      <td>5.000000</td>\n      <td>7.060000e+07</td>\n      <td>9.000000e+07</td>\n      <td>1020.000000</td>\n      <td>7000.000000</td>\n      <td>788.520000</td>\n      <td>8500.000000</td>\n    </tr>\n  </tbody>\n</table>\n</div>"
          },
          "metadata": {}
        }
      ]
    },
    {
      "cell_type": "code",
      "source": "df.info()\n#getting schema",
      "metadata": {
        "trusted": true
      },
      "execution_count": 3,
      "outputs": [
        {
          "name": "stdout",
          "text": "<class 'pandas.core.frame.DataFrame'>\nRangeIndex: 203 entries, 0 to 202\nData columns (total 16 columns):\n #   Column               Non-Null Count  Dtype  \n---  ------               --------------  -----  \n 0   car_name             203 non-null    object \n 1   reviews_count        203 non-null    int64  \n 2   fuel_type            203 non-null    object \n 3   engine_displacement  203 non-null    int64  \n 4   no_cylinder          203 non-null    int64  \n 5   seating_capacity     202 non-null    float64\n 6   transmission_type    203 non-null    object \n 7   fuel_tank_capacity   203 non-null    float64\n 8   body_type            203 non-null    object \n 9   rating               203 non-null    float64\n 10  starting_price       203 non-null    int64  \n 11  ending_price         203 non-null    int64  \n 12  max_torque_nm        203 non-null    float64\n 13  max_torque_rpm       203 non-null    int64  \n 14  max_power_bhp        203 non-null    float64\n 15  max_power_rp         203 non-null    int64  \ndtypes: float64(5), int64(7), object(4)\nmemory usage: 22.3+ KB\n",
          "output_type": "stream"
        }
      ]
    },
    {
      "cell_type": "code",
      "source": "df.head()\n#displaying initial values",
      "metadata": {
        "trusted": true
      },
      "execution_count": 4,
      "outputs": [
        {
          "execution_count": 4,
          "output_type": "execute_result",
          "data": {
            "text/plain": "             car_name  reviews_count fuel_type  engine_displacement  \\\n0     Maruti Alto K10             51    Petrol                  998   \n1       Maruti Brezza             86    Petrol                 1462   \n2       Mahindra Thar            242    Diesel                 2184   \n3     Mahindra XUV700            313    Diesel                 2198   \n4  Mahindra Scorpio-N            107    Diesel                 2198   \n\n   no_cylinder  seating_capacity transmission_type  fuel_tank_capacity  \\\n0            3               5.0         Automatic                27.0   \n1            4               5.0         Automatic                48.0   \n2            4               4.0         Automatic                57.0   \n3            4               7.0         Automatic                60.0   \n4            4               7.0         Automatic                57.0   \n\n   body_type  rating  starting_price  ending_price  max_torque_nm  \\\n0  Hatchback     4.5          399000        583000           89.0   \n1        SUV     4.5          799000       1396000          136.8   \n2        SUV     4.5         1353000       1603000          300.0   \n3        SUV     4.5         1318000       2458000          450.0   \n4        SUV     4.5         1199000       2390000          400.0   \n\n   max_torque_rpm  max_power_bhp  max_power_rp  \n0            3500          65.71          5500  \n1            4400         101.65          6000  \n2            2800         130.00          3750  \n3            2800         182.38          3500  \n4            2750         172.45          3500  ",
            "text/html": "<div>\n<style scoped>\n    .dataframe tbody tr th:only-of-type {\n        vertical-align: middle;\n    }\n\n    .dataframe tbody tr th {\n        vertical-align: top;\n    }\n\n    .dataframe thead th {\n        text-align: right;\n    }\n</style>\n<table border=\"1\" class=\"dataframe\">\n  <thead>\n    <tr style=\"text-align: right;\">\n      <th></th>\n      <th>car_name</th>\n      <th>reviews_count</th>\n      <th>fuel_type</th>\n      <th>engine_displacement</th>\n      <th>no_cylinder</th>\n      <th>seating_capacity</th>\n      <th>transmission_type</th>\n      <th>fuel_tank_capacity</th>\n      <th>body_type</th>\n      <th>rating</th>\n      <th>starting_price</th>\n      <th>ending_price</th>\n      <th>max_torque_nm</th>\n      <th>max_torque_rpm</th>\n      <th>max_power_bhp</th>\n      <th>max_power_rp</th>\n    </tr>\n  </thead>\n  <tbody>\n    <tr>\n      <th>0</th>\n      <td>Maruti Alto K10</td>\n      <td>51</td>\n      <td>Petrol</td>\n      <td>998</td>\n      <td>3</td>\n      <td>5.0</td>\n      <td>Automatic</td>\n      <td>27.0</td>\n      <td>Hatchback</td>\n      <td>4.5</td>\n      <td>399000</td>\n      <td>583000</td>\n      <td>89.0</td>\n      <td>3500</td>\n      <td>65.71</td>\n      <td>5500</td>\n    </tr>\n    <tr>\n      <th>1</th>\n      <td>Maruti Brezza</td>\n      <td>86</td>\n      <td>Petrol</td>\n      <td>1462</td>\n      <td>4</td>\n      <td>5.0</td>\n      <td>Automatic</td>\n      <td>48.0</td>\n      <td>SUV</td>\n      <td>4.5</td>\n      <td>799000</td>\n      <td>1396000</td>\n      <td>136.8</td>\n      <td>4400</td>\n      <td>101.65</td>\n      <td>6000</td>\n    </tr>\n    <tr>\n      <th>2</th>\n      <td>Mahindra Thar</td>\n      <td>242</td>\n      <td>Diesel</td>\n      <td>2184</td>\n      <td>4</td>\n      <td>4.0</td>\n      <td>Automatic</td>\n      <td>57.0</td>\n      <td>SUV</td>\n      <td>4.5</td>\n      <td>1353000</td>\n      <td>1603000</td>\n      <td>300.0</td>\n      <td>2800</td>\n      <td>130.00</td>\n      <td>3750</td>\n    </tr>\n    <tr>\n      <th>3</th>\n      <td>Mahindra XUV700</td>\n      <td>313</td>\n      <td>Diesel</td>\n      <td>2198</td>\n      <td>4</td>\n      <td>7.0</td>\n      <td>Automatic</td>\n      <td>60.0</td>\n      <td>SUV</td>\n      <td>4.5</td>\n      <td>1318000</td>\n      <td>2458000</td>\n      <td>450.0</td>\n      <td>2800</td>\n      <td>182.38</td>\n      <td>3500</td>\n    </tr>\n    <tr>\n      <th>4</th>\n      <td>Mahindra Scorpio-N</td>\n      <td>107</td>\n      <td>Diesel</td>\n      <td>2198</td>\n      <td>4</td>\n      <td>7.0</td>\n      <td>Automatic</td>\n      <td>57.0</td>\n      <td>SUV</td>\n      <td>4.5</td>\n      <td>1199000</td>\n      <td>2390000</td>\n      <td>400.0</td>\n      <td>2750</td>\n      <td>172.45</td>\n      <td>3500</td>\n    </tr>\n  </tbody>\n</table>\n</div>"
          },
          "metadata": {}
        }
      ]
    },
    {
      "cell_type": "code",
      "source": "df.isnull().sum()\n",
      "metadata": {
        "trusted": true
      },
      "execution_count": 5,
      "outputs": [
        {
          "execution_count": 5,
          "output_type": "execute_result",
          "data": {
            "text/plain": "car_name               0\nreviews_count          0\nfuel_type              0\nengine_displacement    0\nno_cylinder            0\nseating_capacity       1\ntransmission_type      0\nfuel_tank_capacity     0\nbody_type              0\nrating                 0\nstarting_price         0\nending_price           0\nmax_torque_nm          0\nmax_torque_rpm         0\nmax_power_bhp          0\nmax_power_rp           0\ndtype: int64"
          },
          "metadata": {}
        }
      ]
    },
    {
      "cell_type": "code",
      "source": "#to replace missing values\ndata1=df.fillna(method=\"ffill\")",
      "metadata": {
        "trusted": true
      },
      "execution_count": 6,
      "outputs": []
    },
    {
      "cell_type": "code",
      "source": "data1.isnull().sum()\n#checking replaced values",
      "metadata": {
        "trusted": true
      },
      "execution_count": 7,
      "outputs": [
        {
          "execution_count": 7,
          "output_type": "execute_result",
          "data": {
            "text/plain": "car_name               0\nreviews_count          0\nfuel_type              0\nengine_displacement    0\nno_cylinder            0\nseating_capacity       0\ntransmission_type      0\nfuel_tank_capacity     0\nbody_type              0\nrating                 0\nstarting_price         0\nending_price           0\nmax_torque_nm          0\nmax_torque_rpm         0\nmax_power_bhp          0\nmax_power_rp           0\ndtype: int64"
          },
          "metadata": {}
        }
      ]
    },
    {
      "cell_type": "code",
      "source": "#reducing garbage\ncols=['reviews_count','engine_displacement','no_cylinder','seating_capacity','transmission_type','fuel_tank_capacity','rating','body_type','max_torque_nm','max_torque_rpm','max_power_bhp']\ndf = df.drop(cols, axis=1)",
      "metadata": {
        "trusted": true
      },
      "execution_count": 8,
      "outputs": []
    },
    {
      "cell_type": "code",
      "source": "print(df)\n",
      "metadata": {
        "trusted": true
      },
      "execution_count": 9,
      "outputs": [
        {
          "name": "stdout",
          "text": "                        car_name fuel_type  starting_price  ending_price  \\\n0                Maruti Alto K10    Petrol          399000        583000   \n1                  Maruti Brezza    Petrol          799000       1396000   \n2                  Mahindra Thar    Diesel         1353000       1603000   \n3                Mahindra XUV700    Diesel         1318000       2458000   \n4             Mahindra Scorpio-N    Diesel         1199000       2390000   \n..                           ...       ...             ...           ...   \n198     Mercedes-Benz AMG A 45 S    Petrol          659000        999000   \n199  BMW 3 Series Gran Limousine    Petrol         1041000       1041000   \n200               MG Hector Plus    Diesel         1615000       2075000   \n201                   Audi RS Q8    Petrol        21700000      21700000   \n202         Maruti Alto 800 tour    Petrol          391000        397000   \n\n     max_power_rp  \n0            5500  \n1            6000  \n2            3750  \n3            3500  \n4            3500  \n..            ...  \n198          6750  \n199          5000  \n200          3750  \n201          6000  \n202          6000  \n\n[203 rows x 5 columns]\n",
          "output_type": "stream"
        }
      ]
    },
    {
      "cell_type": "code",
      "source": "data1.head()",
      "metadata": {
        "trusted": true
      },
      "execution_count": 10,
      "outputs": [
        {
          "execution_count": 10,
          "output_type": "execute_result",
          "data": {
            "text/plain": "             car_name  reviews_count fuel_type  engine_displacement  \\\n0     Maruti Alto K10             51    Petrol                  998   \n1       Maruti Brezza             86    Petrol                 1462   \n2       Mahindra Thar            242    Diesel                 2184   \n3     Mahindra XUV700            313    Diesel                 2198   \n4  Mahindra Scorpio-N            107    Diesel                 2198   \n\n   no_cylinder  seating_capacity transmission_type  fuel_tank_capacity  \\\n0            3               5.0         Automatic                27.0   \n1            4               5.0         Automatic                48.0   \n2            4               4.0         Automatic                57.0   \n3            4               7.0         Automatic                60.0   \n4            4               7.0         Automatic                57.0   \n\n   body_type  rating  starting_price  ending_price  max_torque_nm  \\\n0  Hatchback     4.5          399000        583000           89.0   \n1        SUV     4.5          799000       1396000          136.8   \n2        SUV     4.5         1353000       1603000          300.0   \n3        SUV     4.5         1318000       2458000          450.0   \n4        SUV     4.5         1199000       2390000          400.0   \n\n   max_torque_rpm  max_power_bhp  max_power_rp  \n0            3500          65.71          5500  \n1            4400         101.65          6000  \n2            2800         130.00          3750  \n3            2800         182.38          3500  \n4            2750         172.45          3500  ",
            "text/html": "<div>\n<style scoped>\n    .dataframe tbody tr th:only-of-type {\n        vertical-align: middle;\n    }\n\n    .dataframe tbody tr th {\n        vertical-align: top;\n    }\n\n    .dataframe thead th {\n        text-align: right;\n    }\n</style>\n<table border=\"1\" class=\"dataframe\">\n  <thead>\n    <tr style=\"text-align: right;\">\n      <th></th>\n      <th>car_name</th>\n      <th>reviews_count</th>\n      <th>fuel_type</th>\n      <th>engine_displacement</th>\n      <th>no_cylinder</th>\n      <th>seating_capacity</th>\n      <th>transmission_type</th>\n      <th>fuel_tank_capacity</th>\n      <th>body_type</th>\n      <th>rating</th>\n      <th>starting_price</th>\n      <th>ending_price</th>\n      <th>max_torque_nm</th>\n      <th>max_torque_rpm</th>\n      <th>max_power_bhp</th>\n      <th>max_power_rp</th>\n    </tr>\n  </thead>\n  <tbody>\n    <tr>\n      <th>0</th>\n      <td>Maruti Alto K10</td>\n      <td>51</td>\n      <td>Petrol</td>\n      <td>998</td>\n      <td>3</td>\n      <td>5.0</td>\n      <td>Automatic</td>\n      <td>27.0</td>\n      <td>Hatchback</td>\n      <td>4.5</td>\n      <td>399000</td>\n      <td>583000</td>\n      <td>89.0</td>\n      <td>3500</td>\n      <td>65.71</td>\n      <td>5500</td>\n    </tr>\n    <tr>\n      <th>1</th>\n      <td>Maruti Brezza</td>\n      <td>86</td>\n      <td>Petrol</td>\n      <td>1462</td>\n      <td>4</td>\n      <td>5.0</td>\n      <td>Automatic</td>\n      <td>48.0</td>\n      <td>SUV</td>\n      <td>4.5</td>\n      <td>799000</td>\n      <td>1396000</td>\n      <td>136.8</td>\n      <td>4400</td>\n      <td>101.65</td>\n      <td>6000</td>\n    </tr>\n    <tr>\n      <th>2</th>\n      <td>Mahindra Thar</td>\n      <td>242</td>\n      <td>Diesel</td>\n      <td>2184</td>\n      <td>4</td>\n      <td>4.0</td>\n      <td>Automatic</td>\n      <td>57.0</td>\n      <td>SUV</td>\n      <td>4.5</td>\n      <td>1353000</td>\n      <td>1603000</td>\n      <td>300.0</td>\n      <td>2800</td>\n      <td>130.00</td>\n      <td>3750</td>\n    </tr>\n    <tr>\n      <th>3</th>\n      <td>Mahindra XUV700</td>\n      <td>313</td>\n      <td>Diesel</td>\n      <td>2198</td>\n      <td>4</td>\n      <td>7.0</td>\n      <td>Automatic</td>\n      <td>60.0</td>\n      <td>SUV</td>\n      <td>4.5</td>\n      <td>1318000</td>\n      <td>2458000</td>\n      <td>450.0</td>\n      <td>2800</td>\n      <td>182.38</td>\n      <td>3500</td>\n    </tr>\n    <tr>\n      <th>4</th>\n      <td>Mahindra Scorpio-N</td>\n      <td>107</td>\n      <td>Diesel</td>\n      <td>2198</td>\n      <td>4</td>\n      <td>7.0</td>\n      <td>Automatic</td>\n      <td>57.0</td>\n      <td>SUV</td>\n      <td>4.5</td>\n      <td>1199000</td>\n      <td>2390000</td>\n      <td>400.0</td>\n      <td>2750</td>\n      <td>172.45</td>\n      <td>3500</td>\n    </tr>\n  </tbody>\n</table>\n</div>"
          },
          "metadata": {}
        }
      ]
    },
    {
      "cell_type": "code",
      "source": "dummy=pd.get_dummies(data1['fuel_type'])\ndummy",
      "metadata": {
        "trusted": true
      },
      "execution_count": 12,
      "outputs": [
        {
          "execution_count": 12,
          "output_type": "execute_result",
          "data": {
            "text/plain": "     CNG  Diesel  Electric  Petrol\n0      0       0         0       1\n1      0       0         0       1\n2      0       1         0       0\n3      0       1         0       0\n4      0       1         0       0\n..   ...     ...       ...     ...\n198    0       0         0       1\n199    0       0         0       1\n200    0       1         0       0\n201    0       0         0       1\n202    0       0         0       1\n\n[203 rows x 4 columns]",
            "text/html": "<div>\n<style scoped>\n    .dataframe tbody tr th:only-of-type {\n        vertical-align: middle;\n    }\n\n    .dataframe tbody tr th {\n        vertical-align: top;\n    }\n\n    .dataframe thead th {\n        text-align: right;\n    }\n</style>\n<table border=\"1\" class=\"dataframe\">\n  <thead>\n    <tr style=\"text-align: right;\">\n      <th></th>\n      <th>CNG</th>\n      <th>Diesel</th>\n      <th>Electric</th>\n      <th>Petrol</th>\n    </tr>\n  </thead>\n  <tbody>\n    <tr>\n      <th>0</th>\n      <td>0</td>\n      <td>0</td>\n      <td>0</td>\n      <td>1</td>\n    </tr>\n    <tr>\n      <th>1</th>\n      <td>0</td>\n      <td>0</td>\n      <td>0</td>\n      <td>1</td>\n    </tr>\n    <tr>\n      <th>2</th>\n      <td>0</td>\n      <td>1</td>\n      <td>0</td>\n      <td>0</td>\n    </tr>\n    <tr>\n      <th>3</th>\n      <td>0</td>\n      <td>1</td>\n      <td>0</td>\n      <td>0</td>\n    </tr>\n    <tr>\n      <th>4</th>\n      <td>0</td>\n      <td>1</td>\n      <td>0</td>\n      <td>0</td>\n    </tr>\n    <tr>\n      <th>...</th>\n      <td>...</td>\n      <td>...</td>\n      <td>...</td>\n      <td>...</td>\n    </tr>\n    <tr>\n      <th>198</th>\n      <td>0</td>\n      <td>0</td>\n      <td>0</td>\n      <td>1</td>\n    </tr>\n    <tr>\n      <th>199</th>\n      <td>0</td>\n      <td>0</td>\n      <td>0</td>\n      <td>1</td>\n    </tr>\n    <tr>\n      <th>200</th>\n      <td>0</td>\n      <td>1</td>\n      <td>0</td>\n      <td>0</td>\n    </tr>\n    <tr>\n      <th>201</th>\n      <td>0</td>\n      <td>0</td>\n      <td>0</td>\n      <td>1</td>\n    </tr>\n    <tr>\n      <th>202</th>\n      <td>0</td>\n      <td>0</td>\n      <td>0</td>\n      <td>1</td>\n    </tr>\n  </tbody>\n</table>\n<p>203 rows × 4 columns</p>\n</div>"
          },
          "metadata": {}
        }
      ]
    },
    {
      "cell_type": "code",
      "source": "df.hist()\n",
      "metadata": {
        "trusted": true
      },
      "execution_count": 1,
      "outputs": [
        {
          "ename": "<class 'NameError'>",
          "evalue": "name 'df' is not defined",
          "traceback": [
            "\u001b[0;31m---------------------------------------------------------------------------\u001b[0m",
            "\u001b[0;31mNameError\u001b[0m                                 Traceback (most recent call last)",
            "Cell \u001b[0;32mIn [1], line 1\u001b[0m\n\u001b[0;32m----> 1\u001b[0m \u001b[43mdf\u001b[49m\u001b[38;5;241m.\u001b[39mhist()\n",
            "\u001b[0;31mNameError\u001b[0m: name 'df' is not defined"
          ],
          "output_type": "error"
        }
      ]
    },
    {
      "cell_type": "code",
      "source": "",
      "metadata": {},
      "execution_count": null,
      "outputs": []
    }
  ]
}